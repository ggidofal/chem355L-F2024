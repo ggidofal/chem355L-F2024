{
 "cells": [
  {
   "cell_type": "markdown",
   "id": "b48b0128-e73e-4f29-8bc1-d8742aab4d3a",
   "metadata": {},
   "source": [
    "# BASIC PYTHON SYNTAX TUTORIAL"
   ]
  },
  {
   "cell_type": "markdown",
   "id": "8a4652ea-7b86-4330-8345-b5e542d78175",
   "metadata": {
    "jp-MarkdownHeadingCollapsed": true
   },
   "source": [
    "## Variable assignment and casting"
   ]
  },
  {
   "cell_type": "markdown",
   "id": "1f7684cc-bfed-4ee3-b03f-51f1bf07fd6b",
   "metadata": {},
   "source": [
    "To assign a particular value to a vairable, use the *=* operator. It is good practice to leave spaces between operators, variable names, and numbers."
   ]
  },
  {
   "cell_type": "code",
   "execution_count": 256,
   "id": "4fa4e958-e050-47a7-a70e-39fe5728f41c",
   "metadata": {},
   "outputs": [
    {
     "name": "stdout",
     "output_type": "stream",
     "text": [
      "The value of a is currently 10.9999\n"
     ]
    }
   ],
   "source": [
    "a = 10.9999\n",
    "print(\"The value of a is currently\" , a)"
   ]
  },
  {
   "cell_type": "markdown",
   "id": "a89dcd52-0526-493e-8092-b9a327184255",
   "metadata": {},
   "source": [
    "There are different types of variables in Python, namely (integers, floats, strings, etc.)\n",
    "To define a specific type of variable use the following syntax to *cast*"
   ]
  },
  {
   "cell_type": "code",
   "execution_count": 257,
   "id": "53ee1da3-efde-44fe-b0dc-635ea0265ec0",
   "metadata": {},
   "outputs": [
    {
     "name": "stdout",
     "output_type": "stream",
     "text": [
      "This is a float 10.9999\n",
      "This is an integer 10\n",
      "This is a string 10.9999\n"
     ]
    }
   ],
   "source": [
    "b_float = float(a)\n",
    "print(\"This is a float\",b_float)\n",
    "b_int = int(a)\n",
    "print(\"This is an integer\",b_int)\n",
    "b_string = str(a)\n",
    "print(\"This is a string\",b_string)"
   ]
  },
  {
   "cell_type": "markdown",
   "id": "1223155a-ec76-4fb3-9d54-a5ba46ebbf98",
   "metadata": {},
   "source": [
    "Note that if we define an integer as *int(2.9999)* it will be rounded to the nearest and smallest integer.\n",
    "If you are unsure what the type of a variable is, you can use the *type/class* function"
   ]
  },
  {
   "cell_type": "code",
   "execution_count": 258,
   "id": "d0ca239f-f51f-4cd9-bafb-5bf3743ad915",
   "metadata": {},
   "outputs": [
    {
     "name": "stdout",
     "output_type": "stream",
     "text": [
      "The type of b_int is:    <class 'int'>\n",
      "The type of b_float is:  <class 'float'>\n",
      "The type of b_string is: <class 'str'>\n"
     ]
    }
   ],
   "source": [
    "print(\"The type of b_int is:   \",type(b_int))\n",
    "print(\"The type of b_float is: \",type(b_float))\n",
    "print(\"The type of b_string is:\",type(b_string))"
   ]
  },
  {
   "cell_type": "markdown",
   "id": "37bec978-055e-4adc-afa3-01987e2a1dd7",
   "metadata": {},
   "source": [
    "**NOTE: variable names are case sensistive** as the code demonstrates below"
   ]
  },
  {
   "cell_type": "code",
   "execution_count": 259,
   "id": "28379582-02ae-40aa-b110-73bde77b2c2b",
   "metadata": {},
   "outputs": [
    {
     "name": "stdout",
     "output_type": "stream",
     "text": [
      "The value of a is 2\n",
      "The value of A is 3\n"
     ]
    }
   ],
   "source": [
    "a = 2\n",
    "A = 3\n",
    "print(\"The value of a is\",a)\n",
    "print(\"The value of A is\",A)"
   ]
  },
  {
   "cell_type": "markdown",
   "id": "383d596f-43a4-4c9d-872d-c980e8e9aeba",
   "metadata": {
    "jp-MarkdownHeadingCollapsed": true
   },
   "source": [
    "## Loading standard libraries"
   ]
  },
  {
   "cell_type": "markdown",
   "id": "afe77924-69c5-4f22-8f61-7aad4f82ba9e",
   "metadata": {},
   "source": [
    "There are many Python libraries that include useful numerical functions. \n",
    "These libraries include\n",
    "-  numpy (includes mathematical functions such as trigonometric functions, hyperbolic functions, rounding, summation, products, exponents, logarithms, etc.)\n",
    "-  math (includes additional mathematical functions such as factorial, logarithms with arbitrary bases, etc. )\n",
    "-  scipy (includes advanced numerical functions such as integrate, linalg, optimize, interpolate, fft, etc.)  \n",
    "-  matplotlib (includes functions for plotting data such as pyplot)\n",
    "\n",
    "To load a library, simply use **import** as follows"
   ]
  },
  {
   "cell_type": "code",
   "execution_count": 26,
   "id": "ccc617b2-61da-40bf-a833-3687b71038df",
   "metadata": {},
   "outputs": [],
   "source": [
    "import numpy as np\n",
    "import math"
   ]
  },
  {
   "cell_type": "markdown",
   "id": "5e7f9c70-4ddb-4ecd-9538-dc084257103d",
   "metadata": {},
   "source": [
    "Now, we can use the functions contained in the numpy library."
   ]
  },
  {
   "cell_type": "code",
   "execution_count": 27,
   "id": "e0bc19ab-243b-497d-b370-5a13ce128094",
   "metadata": {},
   "outputs": [
    {
     "name": "stdout",
     "output_type": "stream",
     "text": [
      "The value of pi is: 3.141592653589793\n",
      "The value of cos(pi) is -1.0\n"
     ]
    }
   ],
   "source": [
    "pi_local = np.pi\n",
    "print(\"The value of pi is:\",pi_local)\n",
    "cos_pi = np.cos(pi_local)\n",
    "print(\"The value of cos(pi) is\",cos_pi)"
   ]
  },
  {
   "cell_type": "markdown",
   "id": "c922876b-9fd6-45f6-8dd2-7f26240c5a4d",
   "metadata": {},
   "source": [
    "Alternatively, we can calculate cos($\\pi$) without defining local variables as follows"
   ]
  },
  {
   "cell_type": "code",
   "execution_count": 28,
   "id": "76469afd-4828-44c7-ac52-a10f0e1890ce",
   "metadata": {},
   "outputs": [
    {
     "name": "stdout",
     "output_type": "stream",
     "text": [
      "The value of cos(pi) is -1.0\n"
     ]
    }
   ],
   "source": [
    "print(\"The value of cos(pi) is\",np.cos(np.pi))"
   ]
  },
  {
   "cell_type": "markdown",
   "id": "14c15067-1957-4816-aab2-44a07b6dd307",
   "metadata": {},
   "source": [
    "We  can similarly use other built in functions"
   ]
  },
  {
   "cell_type": "code",
   "execution_count": 30,
   "id": "47d6729e-a8da-4a3e-963c-34c3b659d559",
   "metadata": {},
   "outputs": [
    {
     "name": "stdout",
     "output_type": "stream",
     "text": [
      "e^(pi) is:    23.140692632779267\n",
      "ln(e) is:     1.0\n",
      "log(100) is:  2.0\n",
      "log_2(8) is:  3.0\n"
     ]
    }
   ],
   "source": [
    "print(\"e^(pi) is:   \",np.exp(np.pi))\n",
    "print(\"ln(e) is:    \",np.log(np.e))\n",
    "print(\"log(100) is: \",np.log10(100))\n",
    "print(\"log_2(8) is: \",math.log(8,2))"
   ]
  },
  {
   "cell_type": "markdown",
   "id": "1c39e09e-ca95-4aff-9dcf-f7bc2f71e2b1",
   "metadata": {
    "jp-MarkdownHeadingCollapsed": true
   },
   "source": [
    "## Variable manipulations"
   ]
  },
  {
   "cell_type": "markdown",
   "id": "ef242013-5bba-434b-86eb-a8db8744e9ea",
   "metadata": {},
   "source": [
    "To add to the value of the variable, one needs to 1) first add to the existing value and 2) then assign the new value to the variable"
   ]
  },
  {
   "cell_type": "code",
   "execution_count": 49,
   "id": "70379080-0bc5-4223-96d1-d8d197fad6cf",
   "metadata": {},
   "outputs": [
    {
     "name": "stdout",
     "output_type": "stream",
     "text": [
      "The result of a = a + 10 is 20\n"
     ]
    }
   ],
   "source": [
    "a = 10\n",
    "a = a + 10\n",
    "print(\"The result of a = a + 10 is\" , a)"
   ]
  },
  {
   "cell_type": "markdown",
   "id": "6f6278c2-c978-40cd-8872-ac4b726219c0",
   "metadata": {},
   "source": [
    "Alternatively, you can also use the *+=* operator"
   ]
  },
  {
   "cell_type": "code",
   "execution_count": 50,
   "id": "576b84ef-a65a-4b05-9014-8ea057417d86",
   "metadata": {},
   "outputs": [
    {
     "name": "stdout",
     "output_type": "stream",
     "text": [
      "The result of a += 10 is 25\n"
     ]
    }
   ],
   "source": [
    "a += 5\n",
    "print(\"The result of a += 10 is\" , a)"
   ]
  },
  {
   "cell_type": "markdown",
   "id": "a63622f2-7dab-420a-bef0-23ef58f548c2",
   "metadata": {},
   "source": [
    "Similar operators include *-=*, *\\/=*, and *\\*=*"
   ]
  },
  {
   "cell_type": "code",
   "execution_count": 51,
   "id": "3b840136-f775-46f0-8724-1e0a8853984a",
   "metadata": {},
   "outputs": [
    {
     "name": "stdout",
     "output_type": "stream",
     "text": [
      "The result of a -= 5 is: 20\n",
      "The result of a /=5 is: 4.0\n",
      "The result of a *=5 is: 20.0\n"
     ]
    }
   ],
   "source": [
    "a-=5\n",
    "print(\"The result of a -= 5 is:\" , a)\n",
    "a/=5\n",
    "print(\"The result of a /=5 is:\" , a)\n",
    "a*=5\n",
    "print(\"The result of a *=5 is:\" , a)"
   ]
  },
  {
   "cell_type": "markdown",
   "id": "0f294943-eac9-455d-844d-a5e104ac1859",
   "metadata": {},
   "source": [
    "To raise a variable to some power, use the *\\*\\** operator"
   ]
  },
  {
   "cell_type": "code",
   "execution_count": 52,
   "id": "9e1a83a0-86e4-42c6-86ef-c709410fd2dd",
   "metadata": {},
   "outputs": [
    {
     "name": "stdout",
     "output_type": "stream",
     "text": [
      "The result of a**2 is: 400.0\n",
      "The result of a**2.5 is: 1788.8543819998317\n"
     ]
    }
   ],
   "source": [
    "b = a**2\n",
    "print(\"The result of a**2 is:\",b)\n",
    "b = a**2.5\n",
    "print(\"The result of a**2.5 is:\",b)"
   ]
  },
  {
   "cell_type": "markdown",
   "id": "92cda379-7b3b-4e26-8634-3d32ff2fcff5",
   "metadata": {},
   "source": [
    "To take the square root, we can raise the variable to the 1/2 power"
   ]
  },
  {
   "cell_type": "code",
   "execution_count": 53,
   "id": "765b9fdb-b113-4d5e-b380-6250be663a58",
   "metadata": {},
   "outputs": [
    {
     "name": "stdout",
     "output_type": "stream",
     "text": [
      "The result of a**(1/2) is: 4.47213595499958\n"
     ]
    }
   ],
   "source": [
    "b = a**(1/2)\n",
    "print(\"The result of a**(1/2) is:\",b)"
   ]
  },
  {
   "cell_type": "markdown",
   "id": "d6b07997-838a-4bb3-ab92-10739fc512c6",
   "metadata": {
    "jp-MarkdownHeadingCollapsed": true
   },
   "source": [
    "Alternatively, we can also use the *sqrt()* function of numpy"
   ]
  },
  {
   "cell_type": "code",
   "execution_count": 54,
   "id": "7236bfd0-68db-4b55-b417-b00ccef7f0f2",
   "metadata": {},
   "outputs": [
    {
     "name": "stdout",
     "output_type": "stream",
     "text": [
      "The result of sqrt(a) is: 4.47213595499958\n"
     ]
    }
   ],
   "source": [
    "b = np.sqrt(a)\n",
    "print(\"The result of sqrt(a) is:\",b)"
   ]
  },
  {
   "cell_type": "markdown",
   "id": "d746fb38-18f7-4f22-9c4b-d825ad1369f8",
   "metadata": {},
   "source": [
    "For any operation, the result of float (2 or more floats) or mixed arithmetic (integers with floats) is a float. For integer arithmetic the type of the result can be a *float* or an *int*"
   ]
  },
  {
   "cell_type": "code",
   "execution_count": 61,
   "id": "b9a18457-0536-4fac-ba9c-796cfc683c3c",
   "metadata": {},
   "outputs": [
    {
     "name": "stdout",
     "output_type": "stream",
     "text": [
      "Mixed arithmetic result types\n",
      "\n",
      "The result of a_float+b_int is an int:        <class 'float'>\n",
      "The result of a_float-b_int is an int:        <class 'float'>\n",
      "The result of a_gloat*b_int is an int:        <class 'float'>\n",
      "The result of a_float/b_int is a float:       <class 'float'>\n",
      "The result of a_int^b_int is a float:         <class 'float'>\n",
      "The result of sqrt(a_float*a_int) is a float: <class 'numpy.float64'>\n",
      "\n",
      "\n",
      "Integer arithmetic result types\n",
      "\n",
      "The result of a_int+b_int is an int:        <class 'int'>\n",
      "The result of a_int-b_int is an int:        <class 'int'>\n",
      "The result of a_int*b_int is an int:        <class 'int'>\n",
      "The result of a_int/b_int is a float:       <class 'float'>\n",
      "The result of a_int^b_int is a float:       <class 'int'>\n",
      "The result of sqrt(a_int*a_int) is a float: <class 'numpy.float64'>\n"
     ]
    }
   ],
   "source": [
    "a_float = float(2)\n",
    "a_int = int(2)\n",
    "b_int = int(4)\n",
    "print(\"Mixed arithmetic result types\\n\")\n",
    "print(\"The result of a_float+b_int is an int:       \",type(a_float+b_int))\n",
    "print(\"The result of a_float-b_int is an int:       \",type(a_float-b_int))\n",
    "print(\"The result of a_gloat*b_int is an int:       \",type(a_float*b_int))\n",
    "print(\"The result of a_float/b_int is a float:      \",type(a_float/b_int))\n",
    "print(\"The result of a_int^b_int is a float:        \",type(a_float**b_int))\n",
    "print(\"The result of sqrt(a_float*a_int) is a float:\",type(np.sqrt(a_float*a_int)))\n",
    "print(\"\\n\")\n",
    "print(\"Integer arithmetic result types\\n\")\n",
    "print(\"The result of a_int+b_int is an int:       \",type(a_int+b_int))\n",
    "print(\"The result of a_int-b_int is an int:       \",type(a_int-b_int))\n",
    "print(\"The result of a_int*b_int is an int:       \",type(a_int*b_int))\n",
    "print(\"The result of a_int/b_int is a float:      \",type(a_int/b_int))\n",
    "print(\"The result of a_int^b_int is a float:      \",type(a_int**b_int))\n",
    "print(\"The result of sqrt(a_int*a_int) is a float:\",type(np.sqrt(a_int*a_int)))"
   ]
  },
  {
   "cell_type": "markdown",
   "id": "f856d211-25f0-41d6-b933-958d55c943d4",
   "metadata": {},
   "source": [
    "**NOTE: While you can combine integers with floats, combining strings with integers or floats results in an error message** as indicated by the code below"
   ]
  },
  {
   "cell_type": "code",
   "execution_count": 260,
   "id": "c658caa5-6132-4265-90f1-43efdd978e6a",
   "metadata": {},
   "outputs": [
    {
     "ename": "TypeError",
     "evalue": "unsupported operand type(s) for +: 'float' and 'str'",
     "output_type": "error",
     "traceback": [
      "\u001b[0;31m---------------------------------------------------------------------------\u001b[0m",
      "\u001b[0;31mTypeError\u001b[0m                                 Traceback (most recent call last)",
      "Cell \u001b[0;32mIn[260], line 3\u001b[0m\n\u001b[1;32m      1\u001b[0m a_float  \u001b[38;5;241m=\u001b[39m \u001b[38;5;28mfloat\u001b[39m(\u001b[38;5;241m3\u001b[39m)\n\u001b[1;32m      2\u001b[0m a_string \u001b[38;5;241m=\u001b[39m \u001b[38;5;28mstr\u001b[39m(\u001b[38;5;241m3\u001b[39m)\n\u001b[0;32m----> 3\u001b[0m \u001b[43ma_float\u001b[49m\u001b[43m \u001b[49m\u001b[38;5;241;43m+\u001b[39;49m\u001b[43m \u001b[49m\u001b[43ma_string\u001b[49m\n",
      "\u001b[0;31mTypeError\u001b[0m: unsupported operand type(s) for +: 'float' and 'str'"
     ]
    }
   ],
   "source": [
    "a_float  = float(3)\n",
    "a_string = str(3)\n",
    "a_float + a_string"
   ]
  },
  {
   "cell_type": "markdown",
   "id": "2406f172-5e7b-4fc3-8778-d8db300268ac",
   "metadata": {
    "jp-MarkdownHeadingCollapsed": true
   },
   "source": [
    "## Arrays and matrices"
   ]
  },
  {
   "cell_type": "markdown",
   "id": "7815c1ed-f895-481d-8360-df87e0ce64ec",
   "metadata": {},
   "source": [
    "To define an list/array of integers, we can use several syntaxes"
   ]
  },
  {
   "cell_type": "code",
   "execution_count": 148,
   "id": "d5b3085f-28c2-4ddb-86a3-65a9cf57a47b",
   "metadata": {},
   "outputs": [
    {
     "name": "stdout",
     "output_type": "stream",
     "text": [
      "The array is: [0. 0. 0. 0.]\n"
     ]
    }
   ],
   "source": [
    "import numpy as np\n",
    "\n",
    "# define length of array\n",
    "N = 4\n",
    "\n",
    "# define an array of floats with N elements and initialize every element to zero\n",
    "array_float = np.zeros(N,dtype = float)\n",
    "print(\"The array is:\",array_float)"
   ]
  },
  {
   "cell_type": "markdown",
   "id": "0567f994-2500-43f0-806e-e167ff6fa83d",
   "metadata": {},
   "source": [
    "We can use similar syntax to define arrays of integers and/or strings. \n",
    "\n",
    "To access/modify an element of the arry, the following syntax is used"
   ]
  },
  {
   "cell_type": "code",
   "execution_count": 149,
   "id": "6633ec9e-5510-4b59-bb4c-c3c6a52d901a",
   "metadata": {},
   "outputs": [
    {
     "name": "stdout",
     "output_type": "stream",
     "text": [
      "The array is: [1. 2. 3. 4.]\n"
     ]
    }
   ],
   "source": [
    "array_float[0]=1\n",
    "array_float[1]=2\n",
    "array_float[2]=3\n",
    "array_float[N-1]=N\n",
    "print(\"The array is:\",array_float)"
   ]
  },
  {
   "cell_type": "markdown",
   "id": "00105d94-7588-45ce-9e0a-1b0e6a4eb3af",
   "metadata": {},
   "source": [
    "**NOTE: For an array with N elements, the index of the first entry is 0 and that of the last array entry is N-1 !!**"
   ]
  },
  {
   "cell_type": "markdown",
   "id": "64b3322b-c05b-4740-b1bd-8dd443b27528",
   "metadata": {},
   "source": [
    "To change all values of the array by some operation, we can use the syntax"
   ]
  },
  {
   "cell_type": "code",
   "execution_count": 150,
   "id": "2e1444dd-d7cf-4957-a89d-9cc42ecda4d6",
   "metadata": {},
   "outputs": [
    {
     "name": "stdout",
     "output_type": "stream",
     "text": [
      "The array is: [2. 3. 4. 5.]\n",
      "The array is: [1.  1.5 2.  2.5]\n"
     ]
    }
   ],
   "source": [
    "array_float[:] += 1\n",
    "print(\"The array is:\", array_float)\n",
    "array_float[:] /= 2\n",
    "print(\"The array is:\", array_float)"
   ]
  },
  {
   "cell_type": "markdown",
   "id": "c3a8b202-01f8-458c-b132-1755cf9720fc",
   "metadata": {},
   "source": [
    "To change only a contiguous subset of the elements by the same operation, we can use the syntax"
   ]
  },
  {
   "cell_type": "code",
   "execution_count": 151,
   "id": "2a16087c-5880-468c-8b30-50e02016ee48",
   "metadata": {},
   "outputs": [
    {
     "name": "stdout",
     "output_type": "stream",
     "text": [
      "The array is: [2.  3.  4.  2.5]\n"
     ]
    }
   ],
   "source": [
    "array_float[0:3] *= 2\n",
    "print(\"The array is:\", array_float)"
   ]
  },
  {
   "cell_type": "markdown",
   "id": "1a9652f4-9b8b-4859-9945-fd12f09f1816",
   "metadata": {},
   "source": [
    "**NOTE: If we want to change elements n through m (with 0 <= n <= m <= N), the syntax is *array[n:m+1]*"
   ]
  },
  {
   "cell_type": "code",
   "execution_count": 152,
   "id": "7705c0c9-8652-4397-9552-9f4103f9ac95",
   "metadata": {},
   "outputs": [
    {
     "name": "stdout",
     "output_type": "stream",
     "text": [
      "The array is: [0. 0. 0. 0.]\n"
     ]
    }
   ],
   "source": [
    "first = 0\n",
    "last = 3\n",
    "array_float[first:last+1] = 0\n",
    "print(\"The array is:\", array_float)"
   ]
  },
  {
   "cell_type": "markdown",
   "id": "c98301cc-bd36-4380-bff2-d4ca515edad1",
   "metadata": {},
   "source": [
    "An *MxN* matrix is a 2D array with *M* rows and *N* columns. To define an *MxN* matrix, the syntax is "
   ]
  },
  {
   "cell_type": "code",
   "execution_count": 155,
   "id": "fef48605-b0b3-40b3-a833-bae2863f947b",
   "metadata": {},
   "outputs": [
    {
     "name": "stdout",
     "output_type": "stream",
     "text": [
      "The matrix is:\n",
      "[[0. 0.]\n",
      " [1. 1.]\n",
      " [2. 2.]]\n"
     ]
    }
   ],
   "source": [
    "N = 2\n",
    "M = 3\n",
    "matrix = np.zeros( ( M , N ) ,dtype = float)\n",
    "matrix[0,:] = 0\n",
    "matrix[1,:] = 1\n",
    "matrix[2,:] = 2\n",
    "print(\"The matrix is:\")\n",
    "print(matrix)"
   ]
  },
  {
   "cell_type": "markdown",
   "id": "b284cdbe-5f4f-4219-96e6-cd3149fcbee7",
   "metadata": {
    "jp-MarkdownHeadingCollapsed": true
   },
   "source": [
    "## User-defined functions"
   ]
  },
  {
   "cell_type": "markdown",
   "id": "7bcc3b04-bb23-4df2-a1fd-b9c4d5bea92a",
   "metadata": {},
   "source": [
    "To define a function, we use the following general syntax.\n",
    "\n",
    "def function_name(input_1, input_2, ...):\n",
    "> code line_1 <br>\n",
    "> code line_2 <br>\n",
    "> ... <br>\n",
    "\n",
    "> return output_1, ouput_2, ..."
   ]
  },
  {
   "cell_type": "markdown",
   "id": "d96d4709-d6a0-401f-8fb2-d15a9c8f14a4",
   "metadata": {},
   "source": [
    "For example, we can define a function that adds two numbers as follows"
   ]
  },
  {
   "cell_type": "code",
   "execution_count": 85,
   "id": "7920783f-178a-4489-8b9d-0f27f6b5da1f",
   "metadata": {},
   "outputs": [],
   "source": [
    "def add_two_numbers(a,b):\n",
    "\n",
    "    # function that returns the sum of two numbers a & b\n",
    "    \n",
    "    result = a + b\n",
    "    \n",
    "    return result"
   ]
  },
  {
   "cell_type": "markdown",
   "id": "5311c6bd-a539-4a7e-9469-0fe701ff9905",
   "metadata": {},
   "source": [
    "Then, we can call this function as"
   ]
  },
  {
   "cell_type": "code",
   "execution_count": 86,
   "id": "75d374be-ed3b-4b6c-99ef-2581671843d3",
   "metadata": {},
   "outputs": [
    {
     "name": "stdout",
     "output_type": "stream",
     "text": [
      "The result of a + b is: 4.5\n"
     ]
    }
   ],
   "source": [
    "a = 2.0\n",
    "b = 2.5\n",
    "aPb = add_two_numbers(a,b)\n",
    "print(\"The result of a + b is:\",aPb) "
   ]
  },
  {
   "cell_type": "markdown",
   "id": "1954e54e-788c-4638-a92d-c4222759e427",
   "metadata": {},
   "source": [
    "If we need to use some more advanced mathematical functions, we can just load the appropriate libraries"
   ]
  },
  {
   "cell_type": "code",
   "execution_count": 87,
   "id": "73f0db67-a40f-4793-a685-660563facec5",
   "metadata": {},
   "outputs": [],
   "source": [
    "def more_complex_function(a,b):\n",
    "\n",
    "    # function that adds the square root of a to the exponential of b\n",
    "    \n",
    "    import numpy as np\n",
    "    \n",
    "    return np.sqrt(a) + np.exp(b)"
   ]
  },
  {
   "cell_type": "code",
   "execution_count": 88,
   "id": "8ee95d87-daba-45b7-a45b-9c96524abb37",
   "metadata": {},
   "outputs": [
    {
     "name": "stdout",
     "output_type": "stream",
     "text": [
      "The result of sqrt(a) + e^b is: 13.596707523076569\n"
     ]
    }
   ],
   "source": [
    "complex_result = more_complex_function(a,b)\n",
    "print(\"The result of sqrt(a) + e^b is:\",complex_result) "
   ]
  },
  {
   "cell_type": "markdown",
   "id": "10b89ebc-2f3c-4f37-ba24-223565b17076",
   "metadata": {
    "jp-MarkdownHeadingCollapsed": true
   },
   "source": [
    "## Numerical integration"
   ]
  },
  {
   "cell_type": "markdown",
   "id": "3ad0d4cf-b91e-48bf-b325-3e874e56f118",
   "metadata": {},
   "source": [
    "The *scipy* library contains functions for numerical integration. To use it, we first load the relevant library."
   ]
  },
  {
   "cell_type": "code",
   "execution_count": 173,
   "id": "dcf0a19a-f1cf-4a1a-bad9-aa2a10c74218",
   "metadata": {},
   "outputs": [],
   "source": [
    "import scipy as sp"
   ]
  },
  {
   "cell_type": "markdown",
   "id": "741e62bf-54b0-49cb-aa52-79fb0f0ffd6f",
   "metadata": {},
   "source": [
    "To evaluate a simple integral like $\\int_{1}^{2} x^2 dx$ we first define a function the evaluates $x^2$ and then call the general-purpose one-dimension integration function *quad*"
   ]
  },
  {
   "cell_type": "code",
   "execution_count": 174,
   "id": "a138affc-8559-42ac-827e-bfccfde941e8",
   "metadata": {},
   "outputs": [
    {
     "name": "stdout",
     "output_type": "stream",
     "text": [
      "The value of the integral is: (2.333333333333333, 2.5905203907920317e-14)\n",
      "The real component of the integral is: 2.333333333333333\n",
      "The imaginary component of the integral is: 2.5905203907920317e-14\n"
     ]
    }
   ],
   "source": [
    "def my_simple_function(x):\n",
    "    \n",
    "    # simple function to evaluate x**2\n",
    "\n",
    "    return x**2\n",
    "\n",
    "I=sp.integrate.quad(my_simple_function,1,2)\n",
    "print(\"The value of the integral is:\", I)\n",
    "print(\"The real component of the integral is:\",I[0])\n",
    "print(\"The imaginary component of the integral is:\",I[1])"
   ]
  },
  {
   "cell_type": "markdown",
   "id": "298e8691-1d97-4700-aba3-eea9e5dc6255",
   "metadata": {},
   "source": [
    "**Note that the integral has. in general, a real and an imaginary component. For our purposes, we will need the real component** "
   ]
  },
  {
   "cell_type": "markdown",
   "id": "80917dcb-a392-4fa5-91d0-93fedbde280c",
   "metadata": {},
   "source": [
    "We can use similar logic to evaluate more general integrals."
   ]
  },
  {
   "cell_type": "code",
   "execution_count": 175,
   "id": "5d5784c5-2abd-4954-aab0-9d8d80cf38e2",
   "metadata": {},
   "outputs": [
    {
     "name": "stdout",
     "output_type": "stream",
     "text": [
      "The real component of the integral is: 0.9999999999999999\n"
     ]
    }
   ],
   "source": [
    "def trigonometric_function(x,n,k):\n",
    "\n",
    "    # function that returns the value of sin(k*x)**n\n",
    "    # NOTE: The first input argument for the function MUST be the independent variable\n",
    "\n",
    "    return np.cos(k*x)**n\n",
    "\n",
    "# define exponent and frequency\n",
    "\n",
    "n = 1\n",
    "k = 1\n",
    "\n",
    "I = sp.integrate.quad(trigonometric_function,0,np.pi/2,args=(n,k))\n",
    "print(\"The real component of the integral is:\", I[0])"
   ]
  },
  {
   "cell_type": "markdown",
   "id": "d26965b9-3512-42c3-9a61-290c91c23ee8",
   "metadata": {
    "jp-MarkdownHeadingCollapsed": true
   },
   "source": [
    "## Simple *for* and *while* loops"
   ]
  },
  {
   "cell_type": "markdown",
   "id": "8fe60746-5a72-4a7a-a376-c10de716e581",
   "metadata": {},
   "source": [
    "A *for loop* is a programming construct that repeatedly executes a block of code. <br> We can use several syntaxes to execute a for loop. <br> "
   ]
  },
  {
   "cell_type": "markdown",
   "id": "a1ff8d1e-041c-439e-95b9-df44985b8eba",
   "metadata": {},
   "source": [
    "The code below deomnstrates the basic for loop syntax and prints the iteration variable *i*."
   ]
  },
  {
   "cell_type": "code",
   "execution_count": 195,
   "id": "a02b70b4-d3d3-4fd8-897c-9c6a2a85f291",
   "metadata": {},
   "outputs": [
    {
     "name": "stdout",
     "output_type": "stream",
     "text": [
      "The value of i is: 1\n",
      "The value of i is: 2\n",
      "The value of i is: 3\n",
      "The value of i is: 4\n",
      "for loop done\n"
     ]
    }
   ],
   "source": [
    "# simple loop to print the value of the iteration variable i\n",
    "\n",
    "for i in range(1,5):\n",
    "\n",
    "    # this is the part of the code that gets executed multiple times\n",
    "    \n",
    "    print(\"The value of i is:\",i)\n",
    "\n",
    "# we are done with the for loop\n",
    "print(\"for loop done\")"
   ]
  },
  {
   "cell_type": "markdown",
   "id": "ed154813-5bfa-4dcb-a617-dd550bfde69a",
   "metadata": {},
   "source": [
    "Alternatively, we can also use a *while* loop"
   ]
  },
  {
   "cell_type": "code",
   "execution_count": 196,
   "id": "2fcccc8f-91ba-431e-a34d-8f4976a5468c",
   "metadata": {},
   "outputs": [
    {
     "name": "stdout",
     "output_type": "stream",
     "text": [
      "The value of i is: 1\n",
      "The value of i is: 2\n",
      "The value of i is: 3\n",
      "The value of i is: 4\n",
      "while loop done\n"
     ]
    }
   ],
   "source": [
    "start = 1\n",
    "end = 5\n",
    "\n",
    "i = start\n",
    "while i<end:\n",
    "\n",
    "    # this is the part of the code that gets executed multiple times\n",
    "\n",
    "    print(\"The value of i is:\",i)\n",
    "\n",
    "    # update the iteration counter (without this, we have an infinite loop)\n",
    "    i += 1\n",
    "    \n",
    "# we are done with the loop\n",
    "print(\"while loop done\")"
   ]
  },
  {
   "cell_type": "markdown",
   "id": "66e530d3-4b60-4805-b729-97d75d464aa6",
   "metadata": {},
   "source": [
    "Note that if we omit the first entry in the range of a for loop, it is assumed to be 0."
   ]
  },
  {
   "cell_type": "code",
   "execution_count": 197,
   "id": "b032559a-f8a5-4d3a-b2ce-87673beff939",
   "metadata": {},
   "outputs": [
    {
     "name": "stdout",
     "output_type": "stream",
     "text": [
      "The value of i is: 0\n",
      "The value of i is: 1\n",
      "The value of i is: 2\n",
      "The value of i is: 3\n",
      "The value of i is: 4\n"
     ]
    }
   ],
   "source": [
    "for i in range(5):\n",
    "\n",
    "    print(\"The value of i is:\",i)"
   ]
  },
  {
   "cell_type": "markdown",
   "id": "a6ddb0d5-d63e-4704-a937-703d0d94de5d",
   "metadata": {},
   "source": [
    "The code below demonstrates how we can use a for loop to calculate the sum $S = \\sum_{i=first}^{last} i$"
   ]
  },
  {
   "cell_type": "code",
   "execution_count": 198,
   "id": "72c987c5-62c0-4a3f-8021-f0dcbc65a5ea",
   "metadata": {},
   "outputs": [
    {
     "name": "stdout",
     "output_type": "stream",
     "text": [
      "iteration:  1 value of sum: 1.000000\n",
      "iteration:  2 value of sum: 3.000000\n",
      "iteration:  3 value of sum: 6.000000\n",
      "iteration:  4 value of sum: 10.000000\n",
      "iteration:  5 value of sum: 15.000000\n",
      "\n",
      "The final value of the sum is 15.000000\n"
     ]
    }
   ],
   "source": [
    "# initialize the value of the sum\n",
    "S = 0\n",
    "\n",
    "# define first and last values for the iteration variable i\n",
    "first = 1\n",
    "last  = 5\n",
    "\n",
    "# clculate the sum\n",
    "for i in range(first,last+1):\n",
    "    \n",
    "    # update the sum\n",
    "    S += float(i)\n",
    "    \n",
    "    print(F'iteration: {i:2d} value of sum: {S:5f}')\n",
    "\n",
    "# the for loop is done\n",
    "print(\"\")\n",
    "print(F'The final value of the sum is {S:5f}')"
   ]
  },
  {
   "cell_type": "markdown",
   "id": "3bcaf5cd-f7ef-4434-a460-ba91e40cfd3e",
   "metadata": {
    "jp-MarkdownHeadingCollapsed": true
   },
   "source": [
    "## Nested loops"
   ]
  },
  {
   "cell_type": "markdown",
   "id": "657dd217-f0bc-43f9-a921-a520f3249977",
   "metadata": {},
   "source": [
    "Nested loops, as the name implies, are loops inside loops. The code below illustrates the use of two nested loop. "
   ]
  },
  {
   "cell_type": "code",
   "execution_count": 239,
   "id": "aa70ad6d-486c-4be0-b125-ea036a2196bd",
   "metadata": {},
   "outputs": [
    {
     "name": "stdout",
     "output_type": "stream",
     "text": [
      "i=0 j=0\n",
      "i=0 j=1\n",
      "i=0 j=2\n",
      "i=0 j=3\n",
      "i=1 j=0\n",
      "i=1 j=1\n",
      "i=1 j=2\n",
      "i=1 j=3\n"
     ]
    }
   ],
   "source": [
    "i_max = 2\n",
    "j_max = 4\n",
    "\n",
    "for i in range (i_max):\n",
    "\n",
    "    for j in range(j_max):\n",
    "\n",
    "        print(F\"i={i:1d} j={j:1d}\")"
   ]
  },
  {
   "cell_type": "markdown",
   "id": "9eaba860-5be5-461a-8b17-4ad8d9bd2b56",
   "metadata": {},
   "source": [
    "**NOTE: The inside loop over *j* is executed for every value of $i$. Furthermore, the variables for the iteration variables cannot be the same.**\n",
    "\n",
    "The code below demonstrates how we can use two nested loops to calculate the double sum \n",
    "\n",
    "$$\\sum_{i=0}^{i<=i_{max}} \\sum_{j=i}^{j < j_{max}} ( i \\cdot j )$$"
   ]
  },
  {
   "cell_type": "code",
   "execution_count": 248,
   "id": "81a4b494-2ce9-4522-b2f0-2ec359314aef",
   "metadata": {},
   "outputs": [
    {
     "name": "stdout",
     "output_type": "stream",
     "text": [
      "i=0 j=0\n",
      "i=0 j=1\n",
      "i=0 j=2\n",
      "i=0 j=3\n",
      "i=0 j=4\n",
      "i=1 j=1\n",
      "i=1 j=2\n",
      "i=1 j=3\n",
      "i=1 j=4\n",
      "i=2 j=2\n",
      "i=2 j=3\n",
      "i=2 j=4\n",
      "The final sum is equal to  28\n"
     ]
    }
   ],
   "source": [
    "i_max = 2\n",
    "j_max = 5\n",
    "\n",
    "sum = 0\n",
    "\n",
    "for i in range(i_max + 1):\n",
    "\n",
    "    for j in range(i,j_max):\n",
    "\n",
    "        sum += i * j\n",
    "        print(F\"i={i:1d} j={j:1d}\")\n",
    "\n",
    "print(F\"The final sum is equal to {sum:3d}\")"
   ]
  },
  {
   "cell_type": "markdown",
   "id": "42092847-d022-4f6a-8822-a9bdfbb2f855",
   "metadata": {
    "jp-MarkdownHeadingCollapsed": true
   },
   "source": [
    "## *if*, *break*, and *continue* statements "
   ]
  },
  {
   "cell_type": "markdown",
   "id": "62204e3a-c02d-4429-9480-111187920048",
   "metadata": {},
   "source": [
    "The code below demonstrates the use of an *if* conditional statement"
   ]
  },
  {
   "cell_type": "code",
   "execution_count": 216,
   "id": "5a84480a-468c-4173-8c97-d7c37a8c9fd4",
   "metadata": {},
   "outputs": [
    {
     "name": "stdout",
     "output_type": "stream",
     "text": [
      "The value of i=0 is not equal to 1 or 2\n",
      "The value of i=1 is equal to 1\n",
      "The value of i=2 is equal to 2\n",
      "The value of i=3 is not equal to 1 or 2\n"
     ]
    }
   ],
   "source": [
    "for i in range(4):\n",
    "\n",
    "    if ( i == 1 ):\n",
    "\n",
    "        print(F\"The value of i={i:1d} is equal to 1\")\n",
    "\n",
    "    elif ( i == 2 ):\n",
    "\n",
    "        print(F\"The value of i={i:1d} is equal to 2\")\n",
    "\n",
    "    else:\n",
    "\n",
    "        print(F\"The value of i={i:1d} is not equal to 1 or 2\")"
   ]
  },
  {
   "cell_type": "markdown",
   "id": "ac015f3d-b108-4280-bd24-5543f1740d47",
   "metadata": {},
   "source": [
    "Other logical operators include <br>\n",
    "- *>* : greater than\n",
    "- *>=* : gretater than or equal to\n",
    "- *!=* : not equal to\n",
    "- *<* : less than\n",
    "- *<=* : less than or equal to\n",
    "\n",
    "Modify the code below to see the effect of their use."
   ]
  },
  {
   "cell_type": "code",
   "execution_count": 225,
   "id": "1ae4cf0f-0be3-45f2-807d-5097032d75ce",
   "metadata": {},
   "outputs": [
    {
     "name": "stdout",
     "output_type": "stream",
     "text": [
      "Conditional statement met with i=2\n",
      "Conditional statement met with i=3\n"
     ]
    }
   ],
   "source": [
    "for i in range(4):\n",
    "    \n",
    "    if ( i >= 2 ):\n",
    "        \n",
    "        print(F\"Conditional statement met with i={i:1d}\")"
   ]
  },
  {
   "cell_type": "markdown",
   "id": "260db9b0-ae1b-4930-8643-301a021a42b5",
   "metadata": {},
   "source": [
    "The *break* statement terminates the execution of a loop. <br>\n",
    "\n",
    "The code below demonstrates the use of the *break* statement in a simple loop"
   ]
  },
  {
   "cell_type": "code",
   "execution_count": 227,
   "id": "89201b88-70ad-41d6-82ad-61c3bf167f14",
   "metadata": {},
   "outputs": [
    {
     "name": "stdout",
     "output_type": "stream",
     "text": [
      "0\n",
      "1\n",
      "2\n",
      "The value of i is equal to  2 ... exiting\n"
     ]
    }
   ],
   "source": [
    "i_want = 2\n",
    "for i in range(4):\n",
    "    if ( i == 3 ):\n",
    "        print(F\"The value of i is equal to {i_want:2d} ... exiting\")\n",
    "        break\n",
    "    else:\n",
    "        print(i)"
   ]
  },
  {
   "cell_type": "markdown",
   "id": "eff9f6ae-75b2-4c62-b201-0023db7e7c21",
   "metadata": {},
   "source": [
    "The following code demonstrates the *break* statement in a nested loop"
   ]
  },
  {
   "cell_type": "code",
   "execution_count": 210,
   "id": "8ad233d0-be37-4a8d-a79d-fd31c2b3f168",
   "metadata": {},
   "outputs": [
    {
     "name": "stdout",
     "output_type": "stream",
     "text": [
      "The value of the inside loop iteration variable (j = 2) is equal to the outside loop iteration variable (i=0)\n",
      "The value of the inside loop iteration variable (j = 2) is equal to the outside loop iteration variable (i=1)\n",
      "The value of the inside loop iteration variable (j = 2) is equal to the outside loop iteration variable (i=2)\n"
     ]
    }
   ],
   "source": [
    "for i in range(3):\n",
    "\n",
    "    for j in range(4):\n",
    "\n",
    "        if ( j == j_want ):\n",
    "\n",
    "            print(F\"The value of the inside loop iteration variable (j = {j:1d}) is equal to the outside loop iteration variable (i={i:1d})\")\n",
    "            break"
   ]
  },
  {
   "cell_type": "markdown",
   "id": "97ad15ca-2fc6-42ff-bc51-2548bf7886dc",
   "metadata": {},
   "source": [
    "The *continue* statement *skips* the excution of a piece of code inside a loop.\n",
    "\n",
    "The code below demonstrates the use of the *continue* statement."
   ]
  },
  {
   "cell_type": "code",
   "execution_count": 236,
   "id": "d90e8f8a-336e-47b8-b399-7121389d9a89",
   "metadata": {},
   "outputs": [
    {
     "name": "stdout",
     "output_type": "stream",
     "text": [
      "The final value of the sum of integers 0  <= i <=  10 not including 10 is  45\n"
     ]
    }
   ],
   "source": [
    "sum = 0\n",
    "\n",
    "i_max = 10\n",
    "i_exclude = 10\n",
    "\n",
    "for i in range(i_max + 1):\n",
    "\n",
    "    if ( i == i_exclude ): \n",
    "\n",
    "        continue\n",
    "\n",
    "    else:\n",
    "\n",
    "        sum += i\n",
    "\n",
    "print(F\"The final value of the sum of integers 0  <= i <= {i_max:3d} not including {i_exclude:2d} is {sum:3d}\")"
   ]
  },
  {
   "cell_type": "code",
   "execution_count": null,
   "id": "a23fe5bd-c4ac-49e0-9d82-1d19a2f3e007",
   "metadata": {},
   "outputs": [],
   "source": []
  }
 ],
 "metadata": {
  "kernelspec": {
   "display_name": "Python 3 (ipykernel)",
   "language": "python",
   "name": "python3"
  },
  "language_info": {
   "codemirror_mode": {
    "name": "ipython",
    "version": 3
   },
   "file_extension": ".py",
   "mimetype": "text/x-python",
   "name": "python",
   "nbconvert_exporter": "python",
   "pygments_lexer": "ipython3",
   "version": "3.10.14"
  }
 },
 "nbformat": 4,
 "nbformat_minor": 5
}
