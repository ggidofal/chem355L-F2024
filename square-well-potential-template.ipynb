{
 "cells": [
  {
   "cell_type": "markdown",
   "id": "d90d67ce-e6f4-4837-bf13-853d796cb4b9",
   "metadata": {},
   "source": [
    "# APPROXIMATE SOLUTION OF THE SCHROEDINGER EQUATION FOR A SQUARE WELL POTENTIAL #"
   ]
  },
  {
   "cell_type": "markdown",
   "id": "213e4e8d-c21d-4e7f-995f-18e93546ab5f",
   "metadata": {
    "jp-MarkdownHeadingCollapsed": true
   },
   "source": [
    "## Load libraries"
   ]
  },
  {
   "cell_type": "markdown",
   "id": "5f345c6e-208c-4cad-8060-6692585e612e",
   "metadata": {},
   "source": [
    "This is where you should include the appropriate code to load the relevant Python libraries"
   ]
  },
  {
   "cell_type": "code",
   "execution_count": null,
   "id": "342ce679-9c90-47cd-b768-975291533f24",
   "metadata": {},
   "outputs": [],
   "source": []
  },
  {
   "cell_type": "markdown",
   "id": "8b5793e6-4070-4926-a7a4-e9adfc403da1",
   "metadata": {
    "jp-MarkdownHeadingCollapsed": true
   },
   "source": [
    "## Define input variables "
   ]
  },
  {
   "cell_type": "markdown",
   "id": "e994b938-cf75-4285-a5a4-ae97d893ec51",
   "metadata": {},
   "source": [
    "This is where you would assign values to variables that can be adjusted by the user (e.g. particle mass, barrier width, barrier height, etc.) <br>\n",
    "I suggest that you use use __descriptive variable names__ that are __not too onerous__ to type."
   ]
  },
  {
   "cell_type": "code",
   "execution_count": null,
   "id": "7b96e623-18ca-4743-80a9-712c6036466a",
   "metadata": {},
   "outputs": [],
   "source": []
  },
  {
   "cell_type": "markdown",
   "id": "7dfe9d5c-7737-4a39-a56a-0a00da46c8c0",
   "metadata": {
    "jp-MarkdownHeadingCollapsed": true
   },
   "source": [
    "## Define functions"
   ]
  },
  {
   "cell_type": "markdown",
   "id": "7ea571de-4673-4055-8a04-df0c29bebc45",
   "metadata": {},
   "source": [
    "This is where you would define the functions that your code will use. Add as many code blocks as necessary, and __place each function into its own code block!__"
   ]
  },
  {
   "cell_type": "code",
   "execution_count": null,
   "id": "f0aa95cd-be0b-49cb-b878-327c2a04b057",
   "metadata": {},
   "outputs": [],
   "source": []
  },
  {
   "cell_type": "code",
   "execution_count": null,
   "id": "5a7172ad-930e-44b4-a202-504bdb0d622d",
   "metadata": {},
   "outputs": [],
   "source": []
  },
  {
   "cell_type": "markdown",
   "id": "b314e0d2-388e-4917-b842-c1fc90fc728c",
   "metadata": {
    "jp-MarkdownHeadingCollapsed": true
   },
   "source": [
    "## Initialize arrays and matrices "
   ]
  },
  {
   "cell_type": "markdown",
   "id": "27302201-77cb-4809-b093-94d06bdb50f2",
   "metadata": {},
   "source": [
    "This is where you would initialize any marrays and matrices that you will use in the code below."
   ]
  },
  {
   "cell_type": "code",
   "execution_count": null,
   "id": "a1c28c48-71e3-4441-a82d-c3e203479e87",
   "metadata": {},
   "outputs": [],
   "source": []
  },
  {
   "cell_type": "markdown",
   "id": "060ffb26-4fbf-4a79-a517-45c18aead6ab",
   "metadata": {
    "jp-MarkdownHeadingCollapsed": true
   },
   "source": [
    "## Convert parameter values to atomic units"
   ]
  },
  {
   "cell_type": "markdown",
   "id": "decc588b-efcd-465e-b3b6-ba2f4ec84e31",
   "metadata": {},
   "source": [
    "If needed, this is where you would convert input values to atomic units."
   ]
  },
  {
   "cell_type": "code",
   "execution_count": null,
   "id": "d23fd49d-db48-4117-a3ca-098b8f7f6d43",
   "metadata": {},
   "outputs": [],
   "source": []
  },
  {
   "cell_type": "markdown",
   "id": "f305deb3-59a1-4899-8e9a-14a5e81f6f04",
   "metadata": {
    "jp-MarkdownHeadingCollapsed": true
   },
   "source": [
    "## Update the Hamiltonian matrix by adding the kinetic energy contributions"
   ]
  },
  {
   "cell_type": "markdown",
   "id": "73dca953-d9b2-409e-b5a7-55a773825a0f",
   "metadata": {
    "jp-MarkdownHeadingCollapsed": true
   },
   "source": [
    "This is where you would implement the relevant loops (and calling any relevant functions) to add the kinetic energy contributiuon to the Hamiltonian matrix "
   ]
  },
  {
   "cell_type": "code",
   "execution_count": null,
   "id": "418befb4-977f-4c33-87ee-a9747a6503c7",
   "metadata": {},
   "outputs": [],
   "source": []
  },
  {
   "cell_type": "markdown",
   "id": "568f2b62-cb25-4d92-815d-d891ce83bc4b",
   "metadata": {
    "jp-MarkdownHeadingCollapsed": true
   },
   "source": [
    "## Update the Hamiltonian matrix by adding the potential energy contributions"
   ]
  },
  {
   "cell_type": "markdown",
   "id": "2d5778da-09d9-437c-bc36-b7f9b4e78fd2",
   "metadata": {},
   "source": [
    "This is where you would implement the relevant loops (and calling any relevant functions) to add the potential energy contributiuon to the Hamiltonian matrix"
   ]
  },
  {
   "cell_type": "code",
   "execution_count": null,
   "id": "a9a1a91a-711b-4766-9fea-e7c7abd1b871",
   "metadata": {},
   "outputs": [],
   "source": []
  },
  {
   "cell_type": "markdown",
   "id": "e31f8a4b-d8cf-4b0a-916d-c55bfbcb8e8a",
   "metadata": {
    "jp-MarkdownHeadingCollapsed": true
   },
   "source": [
    "## DIagonalize the Hamiltonian to calculate the approximate solutions to the Schroedinger equation"
   ]
  },
  {
   "cell_type": "markdown",
   "id": "7926e2b0-f082-4b4a-b882-52caf5c06360",
   "metadata": {},
   "source": [
    "This is where you would call the reelvant linear algebra functions to diagonalzie the Hamiltonian. __NOTE: The solutions are likely to be in a random order, so you will need to sort them!__"
   ]
  },
  {
   "cell_type": "code",
   "execution_count": null,
   "id": "fd68f814-566b-4131-b757-c4e609e27d8d",
   "metadata": {},
   "outputs": [],
   "source": []
  },
  {
   "cell_type": "markdown",
   "id": "27c237ac-886a-4741-a3aa-343854218051",
   "metadata": {
    "jp-MarkdownHeadingCollapsed": true
   },
   "source": [
    "## Print key results"
   ]
  },
  {
   "cell_type": "markdown",
   "id": "2918005d-da59-4648-9b20-6228cbcd631a",
   "metadata": {},
   "source": [
    "This is where you would communicate the key results of the calculations. In the contenxt of this assignment, this entails\n",
    "\n",
    "- printing the values for the relevant input variables (i.e. those variables that affect the results of the calculation)\n",
    "- printing the energies for the ground state and first excited state\n",
    "- plotting the wave function for the ground state and first excited state"
   ]
  },
  {
   "cell_type": "code",
   "execution_count": null,
   "id": "9dadbf8b-580c-4027-955e-b5c8ae0d01e5",
   "metadata": {},
   "outputs": [],
   "source": []
  }
 ],
 "metadata": {
  "kernelspec": {
   "display_name": "Python 3 (ipykernel)",
   "language": "python",
   "name": "python3"
  },
  "language_info": {
   "codemirror_mode": {
    "name": "ipython",
    "version": 3
   },
   "file_extension": ".py",
   "mimetype": "text/x-python",
   "name": "python",
   "nbconvert_exporter": "python",
   "pygments_lexer": "ipython3",
   "version": "3.10.14"
  }
 },
 "nbformat": 4,
 "nbformat_minor": 5
}
