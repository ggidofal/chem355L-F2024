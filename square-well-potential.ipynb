{
 "cells": [
  {
   "cell_type": "markdown",
   "id": "d90d67ce-e6f4-4837-bf13-853d796cb4b9",
   "metadata": {},
   "source": [
    "# APPROXIMATE SOLUTION OF THE SCHROEDINGER EQUATION FOR A SQUARE WELL POTENTIAL #"
   ]
  },
  {
   "cell_type": "markdown",
   "id": "213e4e8d-c21d-4e7f-995f-18e93546ab5f",
   "metadata": {},
   "source": [
    "## Load libraries"
   ]
  },
  {
   "cell_type": "markdown",
   "id": "5f345c6e-208c-4cad-8060-6692585e612e",
   "metadata": {},
   "source": [
    "This is where you should include the appropriate code to load the relevant Python libraries"
   ]
  },
  {
   "cell_type": "code",
   "execution_count": 287,
   "id": "342ce679-9c90-47cd-b768-975291533f24",
   "metadata": {},
   "outputs": [],
   "source": [
    "# math libraries\n",
    "import math\n",
    "import scipy as sp\n",
    "import numpy as np\n",
    "# visualization libraries\n",
    "import matplotlib.pyplot as plt"
   ]
  },
  {
   "cell_type": "markdown",
   "id": "8b5793e6-4070-4926-a7a4-e9adfc403da1",
   "metadata": {},
   "source": [
    "## Define input variables "
   ]
  },
  {
   "cell_type": "markdown",
   "id": "e994b938-cf75-4285-a5a4-ae97d893ec51",
   "metadata": {},
   "source": [
    "This is where you would assign values to variables that can be adjusted by the user (e.g. particle mass, barrier width, barrier height, etc.) <br>\n",
    "I suggest that you use use __descriptive variable names__ that are __not too onerous__ to type."
   ]
  },
  {
   "cell_type": "code",
   "execution_count": 288,
   "id": "7b96e623-18ca-4743-80a9-712c6036466a",
   "metadata": {},
   "outputs": [],
   "source": [
    "M_ = 1.672622e-27 # mass of proton in kg\n",
    "V_ = 0.01 # tunneling barrier height in kcal/mol\n",
    "L_ = 4.0  # box width in Angstroms\n",
    "W_ = 1.0  # barrier width in Angstroms\n",
    "N_ = 300   # number of basis functions\n",
    "N_plot_ = 200 # number of grid points to use in plot"
   ]
  },
  {
   "cell_type": "markdown",
   "id": "7dfe9d5c-7737-4a39-a56a-0a00da46c8c0",
   "metadata": {},
   "source": [
    "## Define functions"
   ]
  },
  {
   "cell_type": "markdown",
   "id": "7ea571de-4673-4055-8a04-df0c29bebc45",
   "metadata": {},
   "source": [
    "This is where you would define the functions that your code will use. Add as many code blocks as necessary, and __place each function into its own code block!__"
   ]
  },
  {
   "cell_type": "code",
   "execution_count": 289,
   "id": "f0aa95cd-be0b-49cb-b878-327c2a04b057",
   "metadata": {},
   "outputs": [],
   "source": [
    "def integrand(x,L,n,m):\n",
    "\n",
    "    # simple function to calculate the product of two 1-D particle in a box functions\n",
    "    \n",
    "    return (2.0 / L) * np.sin(n*np.pi*x/L) * np.sin(m*np.pi*x/L)"
   ]
  },
  {
   "cell_type": "code",
   "execution_count": 290,
   "id": "5a7172ad-930e-44b4-a202-504bdb0d622d",
   "metadata": {},
   "outputs": [],
   "source": [
    "def V_ij(i,j,L,V,x_min,x_max):\n",
    "\n",
    "    # function to evaluate the matrix element V[i,j] = V * int { psi_n * psi_m ; x_min < x < x_max }\n",
    "\n",
    "    I = sp.integrate.quad(integrand,x_min,x_max,args=(L,i+1,j+1),limit=100)\n",
    "\n",
    "    return V * I[0]"
   ]
  },
  {
   "cell_type": "code",
   "execution_count": 291,
   "id": "e60034e0-dd5e-4d43-a166-51893a822493",
   "metadata": {},
   "outputs": [],
   "source": [
    "def T_ij(i,j,m,L):\n",
    "\n",
    "    # function to return the value fo the kinetic energy matrix element \n",
    "    # K[i,j] = 0 if i != j\n",
    "    # K[i,j] = j**2*pi**2*hbar**2/(2*m*L**2) \n",
    "    # NOTE: hbar = 1 in au\n",
    "\n",
    "    I = 0.0\n",
    "    \n",
    "    if ( i == j ): I = float(j+1)**2 * np.pi**2 / ( 2.0 * m * L**2 )\n",
    "\n",
    "    return I"
   ]
  },
  {
   "cell_type": "code",
   "execution_count": 292,
   "id": "0ebfaa41-fa0a-4c07-a22d-cda653332b9c",
   "metadata": {},
   "outputs": [],
   "source": [
    "def psi_value(N,L,c,x):\n",
    "\n",
    "    '''\n",
    "    psi_value(N,L,c,x) returns the value of the wave function at x\n",
    "    N_ number of basis functions\n",
    "    L width of the box\n",
    "    c vector of length N_ with expansion coefficients\n",
    "    value of x at which to evaluate the wave function\n",
    "    '''\n",
    "    # initialize value of wave function\n",
    "    \n",
    "    wf_x = 0.0\n",
    "\n",
    "    # loop over basis functions\n",
    "    \n",
    "    for i in range(N_):\n",
    "\n",
    "        # evaluate value of psi_m(x), multiply it by expansion coefficient c[m], and update the value of wave function at x\n",
    "\n",
    "        wf_x += c[i] * np.sin( (i+1) * np.pi * x / L ) \n",
    "\n",
    "\n",
    "    return (2.0 / L ) * wf_x\n",
    "\n",
    "        "
   ]
  },
  {
   "cell_type": "markdown",
   "id": "b314e0d2-388e-4917-b842-c1fc90fc728c",
   "metadata": {},
   "source": [
    "## Initialize arrays and matrices "
   ]
  },
  {
   "cell_type": "markdown",
   "id": "27302201-77cb-4809-b093-94d06bdb50f2",
   "metadata": {},
   "source": [
    "This is where you would initialize any marrays and matrices that you will use in the code below."
   ]
  },
  {
   "cell_type": "code",
   "execution_count": 293,
   "id": "a1c28c48-71e3-4441-a82d-c3e203479e87",
   "metadata": {},
   "outputs": [],
   "source": [
    "H       = np.zeros( (N_ , N_), dtype = float )\n",
    "x_plot  = np.zeros( N_plot_ , dtype = float )\n",
    "wf_plot = np.zeros( ( 2, N_plot_ ) , dtype = float )  "
   ]
  },
  {
   "cell_type": "markdown",
   "id": "060ffb26-4fbf-4a79-a517-45c18aead6ab",
   "metadata": {},
   "source": [
    "## Convert parameter values to atomic units"
   ]
  },
  {
   "cell_type": "markdown",
   "id": "decc588b-efcd-465e-b3b6-ba2f4ec84e31",
   "metadata": {},
   "source": [
    "If needed, this is where you would convert input values to atomic units."
   ]
  },
  {
   "cell_type": "code",
   "execution_count": 294,
   "id": "d23fd49d-db48-4117-a3ca-098b8f7f6d43",
   "metadata": {},
   "outputs": [],
   "source": [
    "M_au = M_ / 9.1093837e-31\n",
    "V_au = V_ / 23.0609\n",
    "L_au = L_ / 0.529177\n",
    "W_au = W_ / 0.529177"
   ]
  },
  {
   "cell_type": "markdown",
   "id": "f305deb3-59a1-4899-8e9a-14a5e81f6f04",
   "metadata": {},
   "source": [
    "## Update the Hamiltonian matrix by adding the kinetic energy contributions"
   ]
  },
  {
   "cell_type": "markdown",
   "id": "73dca953-d9b2-409e-b5a7-55a773825a0f",
   "metadata": {
    "jp-MarkdownHeadingCollapsed": true
   },
   "source": [
    "This is where you would implement the relevant loops (and calling any relevant functions) to add the kinetic energy contributiuon to the Hamiltonian matrix "
   ]
  },
  {
   "cell_type": "code",
   "execution_count": 295,
   "id": "418befb4-977f-4c33-87ee-a9747a6503c7",
   "metadata": {},
   "outputs": [],
   "source": [
    "# update the function we wrote above\n",
    "\n",
    "# loop over row index\n",
    "\n",
    "for n in range(N_):\n",
    "\n",
    "    # loop over column index\n",
    "    \n",
    "    for m in range(N_):\n",
    "\n",
    "        # update the Hamiltonian matrix element\n",
    "\n",
    "        H[n,m] += T_ij(n,m,M_au,L_au)\n",
    "\n",
    "## QUESTION ... Can you think of a better (more efficient way) to do this? "
   ]
  },
  {
   "cell_type": "markdown",
   "id": "568f2b62-cb25-4d92-815d-d891ce83bc4b",
   "metadata": {
    "jp-MarkdownHeadingCollapsed": true
   },
   "source": [
    "## Update the Hamiltonian matrix by adding the potential energy contributions"
   ]
  },
  {
   "cell_type": "markdown",
   "id": "2d5778da-09d9-437c-bc36-b7f9b4e78fd2",
   "metadata": {},
   "source": [
    "This is where you would implement the relevant loops (and calling any relevant functions) to add the potential energy contributiuon to the Hamiltonian matrix"
   ]
  },
  {
   "cell_type": "code",
   "execution_count": 296,
   "id": "a9a1a91a-711b-4766-9fea-e7c7abd1b871",
   "metadata": {},
   "outputs": [],
   "source": [
    "# put barrier in the middle of the box\n",
    "\n",
    "x_min = ( L_au - W_au ) / 2.0\n",
    "x_max = x_min + W_au\n",
    "\n",
    "# now update matrix elements using the function we wrote above\n",
    "\n",
    "# loop over row index\n",
    "\n",
    "for n in range(N_):\n",
    "\n",
    "    # loop over column index\n",
    "\n",
    "    for m in range(N_):\n",
    "\n",
    "        H[n,m] += V_ij(n,m,L_au,V_au,x_min,x_max)\n"
   ]
  },
  {
   "cell_type": "markdown",
   "id": "e31f8a4b-d8cf-4b0a-916d-c55bfbcb8e8a",
   "metadata": {
    "jp-MarkdownHeadingCollapsed": true
   },
   "source": [
    "## DIagonalize the Hamiltonian to calculate the approximate solutions to the Schroedinger equation"
   ]
  },
  {
   "cell_type": "markdown",
   "id": "7926e2b0-f082-4b4a-b882-52caf5c06360",
   "metadata": {},
   "source": [
    "This is where you would call the reelvant linear algebra functions to diagonalzie the Hamiltonian. __NOTE: The solutions are likely to be in a random order, so you will need to sort them!__"
   ]
  },
  {
   "cell_type": "code",
   "execution_count": 297,
   "id": "fd68f814-566b-4131-b757-c4e609e27d8d",
   "metadata": {},
   "outputs": [],
   "source": [
    "# diagonalize the Hamiltonian\n",
    "# energies are stored in eig_vals and expansion coefficients are stored in eig_Vecs\n",
    "\n",
    "eig_vals, eig_vecs = sp.linalg.eig(H)\n",
    "\n",
    "# eigenvalues may contain imaginary components (due to roundoff) ... take the real part of eigenvlaues\n",
    "\n",
    "eig_vals = np.real(eig_vals)\n",
    "\n",
    "# eigenvalues are not necessarily sorted ... figure out sorting order and store it in eig_sort\n",
    "\n",
    "eig_sort = eig_vals.argsort()[::1]\n"
   ]
  },
  {
   "cell_type": "markdown",
   "id": "27c237ac-886a-4741-a3aa-343854218051",
   "metadata": {},
   "source": [
    "## Print key results"
   ]
  },
  {
   "cell_type": "markdown",
   "id": "2918005d-da59-4648-9b20-6228cbcd631a",
   "metadata": {},
   "source": [
    "This is where you would communicate the key results of the calculations. In the contenxt of this assignment, this entails\n",
    "\n",
    "- printing the values for the relevant input variables (i.e. those variables that affect the results of the calculation)\n",
    "- printing the energies for the ground state and first excited state\n",
    "- plotting the wave function for the ground state and first excited state"
   ]
  },
  {
   "cell_type": "code",
   "execution_count": 298,
   "id": "9dadbf8b-580c-4027-955e-b5c8ae0d01e5",
   "metadata": {},
   "outputs": [
    {
     "name": "stdout",
     "output_type": "stream",
     "text": [
      "INPUT PARAMETERS\n",
      "Mass of particle (kg):         1.672622e-27\n",
      "Width of box (A):              4.0\n",
      "Width of barrier (A):          1.0\n",
      "Height of barrier (kcal/mol):  0.01\n",
      "\n",
      "APPROXIMATE ENERGIES\n",
      "Ground-state energy (au):      0.000177308388270737\n",
      "1st excited-state energy (au): 0.0002181911736707976\n"
     ]
    }
   ],
   "source": [
    "# print input parameters\n",
    "print(\"INPUT PARAMETERS\")\n",
    "print(\"Mass of particle (kg):        \",M_)\n",
    "print(\"Width of box (A):             \",L_)\n",
    "print(\"Width of barrier (A):         \",W_)\n",
    "print(\"Height of barrier (kcal/mol): \",V_)\n",
    "print()\n",
    "# print sorted eigenvalues\n",
    "print(\"APPROXIMATE ENERGIES\")\n",
    "print(\"Ground-state energy (au):     \",eig_vals[eig_sort[0]])\n",
    "print(\"1st excited-state energy (au):\",eig_vals[eig_sort[1]])"
   ]
  },
  {
   "cell_type": "code",
   "execution_count": 299,
   "id": "9eb2dead-ced4-4084-b77c-5868d700c6ec",
   "metadata": {},
   "outputs": [],
   "source": [
    "# make plots\n",
    "\n",
    "dx = L_au / ( N_plot_ - 1 )\n",
    "\n",
    "for i in range(N_plot_):\n",
    "\n",
    "    # calculate & store value of x\n",
    "    \n",
    "    x_plot[i]    = dx * float(i)\n",
    "    \n",
    "    # calculate & store value of ground state WF at this value of x\n",
    "    \n",
    "    wf_plot[0,i] = psi_value(N_,L_au,eig_vecs[:,eig_sort[0]],x_plot[i]) \n",
    "\n",
    "    # calculate & store value of ground state WF at this value of x\n",
    "    \n",
    "    wf_plot[1,i] = psi_value(N_,L_au,eig_vecs[:,eig_sort[1]],x_plot[i])  "
   ]
  },
  {
   "cell_type": "code",
   "execution_count": 300,
   "id": "bb34309e-0137-4da2-af85-d55bfad6a2fc",
   "metadata": {},
   "outputs": [
    {
     "data": {
      "text/plain": [
       "Text(0.5, 0, '$x / au$')"
      ]
     },
     "execution_count": 300,
     "metadata": {},
     "output_type": "execute_result"
    },
    {
     "data": {
      "image/png": "[encoded data removed]",
      "text/plain": [
       "<Figure size 640x480 with 1 Axes>"
      ]
     },
     "metadata": {},
     "output_type": "display_data"
    }
   ],
   "source": [
    "plt.plot( x_plot,wf_plot[0,:] )\n",
    "plt.ylabel( '$\\psi_0(x) / au^{-1/2}$' )\n",
    "plt.xlabel( '$x / au$' )"
   ]
  },
  {
   "cell_type": "code",
   "execution_count": 301,
   "id": "282875f2-fdb5-4316-9699-bfa87fc73460",
   "metadata": {},
   "outputs": [
    {
     "data": {
      "text/plain": [
       "Text(0.5, 0, '$x / au$')"
      ]
     },
     "execution_count": 301,
     "metadata": {},
     "output_type": "execute_result"
    },
    {
     "data": {
      "image/png": "[encoded data removed]",
      "text/plain": [
       "<Figure size 640x480 with 1 Axes>"
      ]
     },
     "metadata": {},
     "output_type": "display_data"
    }
   ],
   "source": [
    "plt.plot( x_plot,wf_plot[1,:] )\n",
    "plt.ylabel( '$\\psi_1(x) / au^{-1/2}$' )\n",
    "plt.xlabel( '$x / au$' )"
   ]
  },
  {
   "cell_type": "code",
   "execution_count": null,
   "id": "e953549b-b0ce-4b46-ba1f-4dc1b967afcd",
   "metadata": {},
   "outputs": [],
   "source": []
  }
 ],
 "metadata": {
  "kernelspec": {
   "display_name": "Python 3 (ipykernel)",
   "language": "python",
   "name": "python3"
  },
  "language_info": {
   "codemirror_mode": {
    "name": "ipython",
    "version": 3
   },
   "file_extension": ".py",
   "mimetype": "text/x-python",
   "name": "python",
   "nbconvert_exporter": "python",
   "pygments_lexer": "ipython3",
   "version": "3.10.14"
  }
 },
 "nbformat": 4,
 "nbformat_minor": 5
}
