{
 "cells": [
  {
   "cell_type": "markdown",
   "id": "d5baa0f8-f022-4fb6-acf6-ecf97216576b",
   "metadata": {},
   "source": [
    "# HOMEWORK SET 1 (Python bootcamp)"
   ]
  },
  {
   "cell_type": "markdown",
   "id": "8d58ec33-3ca1-4998-97ef-4dd502e38b10",
   "metadata": {},
   "source": [
    "## Problem 1: Summations using loops"
   ]
  },
  {
   "cell_type": "markdown",
   "id": "7d21520f-8691-40ee-9057-a407e0540754",
   "metadata": {},
   "source": [
    "In the box below, write a for loop that evaluates the sum\n",
    "$$ S = \\sum_{k = k_{min}}^{k_{max}} k^m $$\n",
    "for arbitrary values of $i_{min}$ < = $i_{max}$, and $m$."
   ]
  },
  {
   "cell_type": "code",
   "execution_count": 80,
   "id": "538bf8f3-a98f-43b4-9922-38e936fa5c15",
   "metadata": {},
   "outputs": [
    {
     "name": "stdout",
     "output_type": "stream",
     "text": [
      "The value of the sum is 5.0\n"
     ]
    }
   ],
   "source": [
    "k_min = 1\n",
    "k_max = 2\n",
    "m     = 2\n",
    "\n",
    "S = 0.0\n",
    "for k in range(k_min,k_max+1):\n",
    "\n",
    "    S += k**m\n",
    "\n",
    "print(\"The value of the sum is\",S)"
   ]
  },
  {
   "cell_type": "markdown",
   "id": "8164a701-a6fd-4cc1-9916-30abf5137727",
   "metadata": {},
   "source": [
    "## Problem 2: Overlap integrals"
   ]
  },
  {
   "cell_type": "markdown",
   "id": "3221c405-ce4e-4170-be59-4bfad3606d55",
   "metadata": {},
   "source": [
    "In the box below, write a function that uses standard library functions to return the value of the overlap integral $S_{m,n}$ between two particle in a box eigenfunctions $\\psi_n(x)$ and $\\psi_m(x)$ <br> \n",
    "$$S_{m,n} = \\int_{0}^{L} \\left[\\psi_m(x)\\right]^* \\psi_n(x)$$ , \n",
    "where $L$ is the width of the box, and the normalized particle in a box eigenfunctions are defined as\n",
    "$$ \\psi_n(x) = \\sqrt{\\frac{2}{L}}{\\rm sin} \\left( \\frac{n\\pi x}{L}\\right) \\hspace{1cm} n = 1,2,...\\infty$$\n",
    "\n",
    "To check the accuracy of your function, note that the particle in a 1-D box eigenfunctions are orthonormal and hence\n",
    "$$ S_{mn} = \\left\\{ \\begin{array}{cc}1 & m = n \\\\ 0 & m \\neq n \\end{array} \\right\\} $$\n",
    "for any $L > 0.0$."
   ]
  },
  {
   "cell_type": "code",
   "execution_count": 81,
   "id": "810df92b-8306-4e8b-983a-70d2df5de3ff",
   "metadata": {},
   "outputs": [
    {
     "name": "stdout",
     "output_type": "stream",
     "text": [
      "1.3305936929692148e-17\n"
     ]
    }
   ],
   "source": [
    "import numpy as np\n",
    "import scipy.integrate as spint\n",
    "\n",
    "def sine_product(x,n,m,L):\n",
    "\n",
    "    return np.sin( n * np.pi * x / L ) * np.sin( m * np.pi * x / L )\n",
    "\n",
    "def S_mn(m,n,L):\n",
    "\n",
    "    I = spint.quad(sine_product,0.0, L, args=(n,m,L))\n",
    "\n",
    "    return ( 2.0 / L ) *  I[0]\n",
    "\n",
    "print(S_mn(1,2,1.0))\n"
   ]
  },
  {
   "cell_type": "markdown",
   "id": "130981ad-c247-4b47-8ad0-7fb66ee05f80",
   "metadata": {},
   "source": [
    "## Problem 3: Fourier expansion of the Dirac delta function $\\delta (x)$"
   ]
  },
  {
   "cell_type": "markdown",
   "id": "83838f93-d3b5-490a-a29a-75f9a7a056b5",
   "metadata": {},
   "source": [
    "The Fourier expansion of the Dirac delta function $\\delta(x)$ is given by\n",
    "$$ \\delta(x) = \\frac{1}{\\pi} \\left( \\frac{1}{2} + \\sum_{k=1}^{k_{max}} {\\rm cos} (k x) \\right) $$\n",
    "In the box below, do the following.\n",
    "\n",
    "1. Write a function that returns the value of $\\delta(x)$ for some value of $x$ and $k_{max}$. To check the accuracy of your function\n",
    "| $k_{max}$ | $x$   | $\\delta(x)$ |\n",
    "|:---------:|:-----:|:-----------:|\n",
    "| 10 | 0.0 | 3.3422538049298023 |\n",
    "| 10 | 1.2345 | 0.16944841348224607 | \n",
    "| 100 | 0.0 | 31.990143561470965 |\n",
    "| 100 | 1.2345 | -0.20241043182087362 |\n",
    "\n",
    "2. Use your function to calculate the integral\n",
    "\n",
    "   $$ \\int_{-\\pi}^{\\pi} \\delta(x)dx$$\n",
    "\n",
    "   When done correctly, the value of the integrals is $1.0$ (within machine precision).\n",
    "\n",
    "4. Plot $\\delta(x)$ on the interval $- \\pi \\leq x \\leq \\pi$ for $k_{max} = 10$ and $k_{max} = 1000$.  "
   ]
  },
  {
   "cell_type": "code",
   "execution_count": 82,
   "id": "ebb4df62-dd67-4eae-9144-ae541fdcaad0",
   "metadata": {},
   "outputs": [
    {
     "name": "stdout",
     "output_type": "stream",
     "text": [
      "The integral is: 2.886579864025407e-15\n"
     ]
    },
    {
     "data": {
      "text/plain": [
       "[<matplotlib.lines.Line2D at 0x146e32ec0>]"
      ]
     },
     "execution_count": 82,
     "metadata": {},
     "output_type": "execute_result"
    },
    {
     "data": {
      "image/png": "[encoded data removed]",
      "text/plain": [
       "<Figure size 640x480 with 1 Axes>"
      ]
     },
     "metadata": {},
     "output_type": "display_data"
    }
   ],
   "source": [
    "import numpy as np\n",
    "import scipy.integrate as spint\n",
    "import matplotlib.pyplot as plt\n",
    "\n",
    "def delta_x(x,N):\n",
    "\n",
    "    fun_val = 1.0/2.0\n",
    "    \n",
    "    for i in range(1,N+1):\n",
    " \n",
    "        fun_val += np.cos( (i+1) * x )\n",
    "\n",
    "    \n",
    "    return fun_val / np.pi\n",
    "\n",
    "N_plot = 201\n",
    "N_exp  = 100\n",
    "L      = np.pi\n",
    "dx     = 2.0 * L / ( N_plot - 1 )\n",
    "\n",
    "x_plot = np.zeros( N_plot, dtype = float )\n",
    "dirac  = np.zeros( N_plot, dtype = float )\n",
    "\n",
    "\n",
    "I = spint.quad(delta_x,-np.pi,np.pi,args=(N_exp),limit=2000)\n",
    "\n",
    "print(\"The integral is:\",1.0-I[0])\n",
    "\n",
    "for i in range(N_plot):\n",
    "\n",
    "    x_plot[i]     = -L + dx * float(i)\n",
    "    dirac[i] = delta_x(x_plot[i],N_exp)\n",
    "\n",
    "plt.plot(x_plot,dirac)\n"
   ]
  },
  {
   "cell_type": "markdown",
   "id": "c19c865c-855c-41cd-bec8-86990a6d9ca7",
   "metadata": {},
   "source": [
    "## Problem 4: Solving transcendental equations"
   ]
  },
  {
   "cell_type": "markdown",
   "id": "b4d58541-84dc-492e-b497-5a83857b5fec",
   "metadata": {},
   "source": [
    "Assuming that $\\bar{C}_P \\neq \\bar{C}_P(T)$, the temperature dependence of $\\Delta_RG(T)$ is given by the expression\n",
    "\n",
    "$$ \\Delta_R G^0(T) = \\Delta_R H^0(T_0) + \\Delta_RC_P \\left( T - T_0 \\right) - T \\left[ \\Delta_R S^0(T_0) + \\Delta_R C_P(T_0) \\cdot {\\rm ln} \\left( \\frac{T}{T_0} \\right) \\right]$$\n",
    "\n",
    "In the box below, write code that determines the temperature $T^*$ at which $\\Delta_RG^0(T^*) = 0$."
   ]
  },
  {
   "cell_type": "code",
   "execution_count": null,
   "id": "9dc2a81a-5758-48d5-b10e-2bbb29ad4e70",
   "metadata": {},
   "outputs": [],
   "source": []
  }
 ],
 "metadata": {
  "kernelspec": {
   "display_name": "Python 3 (ipykernel)",
   "language": "python",
   "name": "python3"
  },
  "language_info": {
   "codemirror_mode": {
    "name": "ipython",
    "version": 3
   },
   "file_extension": ".py",
   "mimetype": "text/x-python",
   "name": "python",
   "nbconvert_exporter": "python",
   "pygments_lexer": "ipython3",
   "version": "3.10.14"
  }
 },
 "nbformat": 4,
 "nbformat_minor": 5
}
